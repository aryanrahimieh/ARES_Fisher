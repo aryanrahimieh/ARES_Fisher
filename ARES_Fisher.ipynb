{
 "cells": [
  {
   "cell_type": "markdown",
   "metadata": {},
   "source": [
    "# Fisher Matrix for Global 21-cm Signal"
   ]
  },
  {
   "cell_type": "code",
   "execution_count": 267,
   "metadata": {},
   "outputs": [],
   "source": [
    "import numpy as np\n",
    "import ares\n",
    "from scipy import interpolate"
   ]
  },
  {
   "cell_type": "code",
   "execution_count": 265,
   "metadata": {},
   "outputs": [],
   "source": [
    "def data_matrix(nu, params):\n",
    "    ### 1- A matrix for saving the data: M.shape= (1+3*npar, lennu)\n",
    "    #         first row: nu, len(nu) = lennu\n",
    "    #         next 2: first parameter's 2 neighbors\n",
    "    #         next 2: second parameter's 2 neighbors ...\n",
    "####################################################################\n",
    "    M = nu   \n",
    "    sim = ares.simulations.Global21cm(**params)     # Initialize a simulation object\n",
    "    sim.run() \n",
    "    x = sim.history['nu']\n",
    "    y = sim.history['dTb']\n",
    "    f = interpolate.interp1d(x, y)\n",
    "#         M = np.vstack((M,f(nu)))\n",
    "    return f(nu)\n",
    "\n",
    "def derivative_matrix(mat, step):\n",
    "    ### 2- A function to take derivative matrix consisted of:\n",
    "    #         first row: nu\n",
    "    #         2nd row: derivative wr/ first parameter \n",
    "    #         3rd row: derivative wr/ second parameter  ...\n",
    "#############################################################\n",
    "    row = mat.shape[0]\n",
    "    deriv = mat[0]\n",
    "    for i in range(row):\n",
    "        if i>1 & i%2==0:\n",
    "            stp_i = np.int((i-2)/2)\n",
    "            nrow = (mat[i+1,:]-mat[i,:])/2/step[stp_i]\n",
    "            deriv = np.vstack((deriv,nrow))        \n",
    "    return deriv\n",
    "\n",
    "def Fisher_elements(der_mat, sigma):\n",
    "    ### 3- A function to calculate the Fisher elements using \n",
    "    ### the 21-cm formula. \n",
    "##############################################################\n",
    "    p_num = der_mat.shape[0]-1\n",
    "    Fish = np.zeros([p_num,p_num])\n",
    "    for i in range(p_num):\n",
    "        for j in range(p_num):\n",
    "            cross = np.multiply(der_mat[i+1],der_mat[j+1]) / sigma**2\n",
    "            Fish[i,j] = np.sum(cross)\n",
    "    return Fish"
   ]
  },
  {
   "cell_type": "code",
   "execution_count": 201,
   "metadata": {},
   "outputs": [
    {
     "name": "stdout",
     "output_type": "stream",
     "text": [
      "{'fX': 1.0, 'fstar': 0.1, 'Nion': 4000.0, 'Nlw': 9690.0}\n"
     ]
    }
   ],
   "source": [
    "names = np.array( ['fX', 'fstar', 'Nion',  'Nlw'])\n",
    "fids = np.array([1.0, 0.1, 4000.0, 9690.0])\n",
    "steps = np.array([0.3, 0.001, 100, 100])\n",
    "par_fid = {}\n",
    "for i,name in enumerate(names):\n",
    "    par_fid.update({name: fids[i]})\n",
    "print(par_fid)"
   ]
  },
  {
   "cell_type": "code",
   "execution_count": 202,
   "metadata": {},
   "outputs": [
    {
     "name": "stdout",
     "output_type": "stream",
     "text": [
      "# Loaded $ARES/input/inits/inits_planck_TTTEEE_lowl_lowE_best.txt.\n",
      "\n",
      "##############################################################################################################\n",
      "####                                      ARES Simulation: Overview                                       ####\n",
      "##############################################################################################################\n",
      "#### ---------------------------------------------------------------------------------------------------- ####\n",
      "#### Source Populations                                                                                   ####\n",
      "#### ---------------------------------------------------------------------------------------------------- ####\n",
      "####               sfrd      sed    radio    O/IR    Ly-a     LW     Ly-C   X-ray    RTE                  ####\n",
      "#### pop #0  :    fcoll      yes                      x       x                                           ####\n",
      "#### pop #1  : link:sfrd:0   yes                                              x                           ####\n",
      "#### pop #2  : link:sfrd:0   yes                                      x                                   ####\n",
      "#### ---------------------------------------------------------------------------------------------------- ####\n",
      "#### Physics                                                                                              ####\n",
      "#### ---------------------------------------------------------------------------------------------------- ####\n",
      "#### cgm_initial_temperature        : [10000.0]                                                           ####\n",
      "#### clumping_factor                : 1                                                                   ####\n",
      "#### secondary_ionization           : 1                                                                   ####\n",
      "#### approx_Salpha                  : 1                                                                   ####\n",
      "#### include_He                     : False                                                               ####\n",
      "#### feedback_LW                    : False                                                               ####\n",
      "##############################################################################################################\n",
      "# Loaded $ARES/input/hmf/hmf_ST_planck_TTTEEE_lowl_lowE_best_logM_1400_4-18_z_1201_0-60.hdf5.\n",
      "1 {'fX': 1.0, 'fstar': 0.1, 'Nion': 4000.0, 'Nlw': 9690.0}\n",
      "2 {'fX': 1.3, 'fstar': 0.1, 'Nion': 4000.0, 'Nlw': 9690.0}\n",
      "# Loaded $ARES/input/inits/inits_planck_TTTEEE_lowl_lowE_best.txt.\n",
      "\n",
      "##############################################################################################################\n",
      "####                                      ARES Simulation: Overview                                       ####\n",
      "##############################################################################################################\n",
      "#### ---------------------------------------------------------------------------------------------------- ####\n",
      "#### Source Populations                                                                                   ####\n",
      "#### ---------------------------------------------------------------------------------------------------- ####\n",
      "####               sfrd      sed    radio    O/IR    Ly-a     LW     Ly-C   X-ray    RTE                  ####\n",
      "#### pop #0  :    fcoll      yes                      x       x                                           ####\n",
      "#### pop #1  : link:sfrd:0   yes                                              x                           ####\n",
      "#### pop #2  : link:sfrd:0   yes                                      x                                   ####\n",
      "#### ---------------------------------------------------------------------------------------------------- ####\n",
      "#### Physics                                                                                              ####\n",
      "#### ---------------------------------------------------------------------------------------------------- ####\n",
      "#### cgm_initial_temperature        : [10000.0]                                                           ####\n",
      "#### clumping_factor                : 1                                                                   ####\n",
      "#### secondary_ionization           : 1                                                                   ####\n",
      "#### approx_Salpha                  : 1                                                                   ####\n",
      "#### include_He                     : False                                                               ####\n",
      "#### feedback_LW                    : False                                                               ####\n",
      "##############################################################################################################\n",
      "# Loaded $ARES/input/hmf/hmf_ST_planck_TTTEEE_lowl_lowE_best_logM_1400_4-18_z_1201_0-60.hdf5.\n",
      "3 {'fX': 0.7, 'fstar': 0.1, 'Nion': 4000.0, 'Nlw': 9690.0} \n",
      "\n",
      "# Loaded $ARES/input/inits/inits_planck_TTTEEE_lowl_lowE_best.txt.\n",
      "\n",
      "##############################################################################################################\n",
      "####                                      ARES Simulation: Overview                                       ####\n",
      "##############################################################################################################\n",
      "#### ---------------------------------------------------------------------------------------------------- ####\n",
      "#### Source Populations                                                                                   ####\n",
      "#### ---------------------------------------------------------------------------------------------------- ####\n",
      "####               sfrd      sed    radio    O/IR    Ly-a     LW     Ly-C   X-ray    RTE                  ####\n",
      "#### pop #0  :    fcoll      yes                      x       x                                           ####\n",
      "#### pop #1  : link:sfrd:0   yes                                              x                           ####\n",
      "#### pop #2  : link:sfrd:0   yes                                      x                                   ####\n",
      "#### ---------------------------------------------------------------------------------------------------- ####\n",
      "#### Physics                                                                                              ####\n",
      "#### ---------------------------------------------------------------------------------------------------- ####\n",
      "#### cgm_initial_temperature        : [10000.0]                                                           ####\n",
      "#### clumping_factor                : 1                                                                   ####\n",
      "#### secondary_ionization           : 1                                                                   ####\n",
      "#### approx_Salpha                  : 1                                                                   ####\n",
      "#### include_He                     : False                                                               ####\n",
      "#### feedback_LW                    : False                                                               ####\n",
      "##############################################################################################################\n",
      "# Loaded $ARES/input/hmf/hmf_ST_planck_TTTEEE_lowl_lowE_best_logM_1400_4-18_z_1201_0-60.hdf5.\n",
      "1 {'fX': 1.0, 'fstar': 0.1, 'Nion': 4000.0, 'Nlw': 9690.0}\n",
      "2 {'fX': 1.0, 'fstar': 0.101, 'Nion': 4000.0, 'Nlw': 9690.0}\n",
      "# Loaded $ARES/input/inits/inits_planck_TTTEEE_lowl_lowE_best.txt.\n",
      "\n",
      "##############################################################################################################\n",
      "####                                      ARES Simulation: Overview                                       ####\n",
      "##############################################################################################################\n",
      "#### ---------------------------------------------------------------------------------------------------- ####\n",
      "#### Source Populations                                                                                   ####\n",
      "#### ---------------------------------------------------------------------------------------------------- ####\n",
      "####               sfrd      sed    radio    O/IR    Ly-a     LW     Ly-C   X-ray    RTE                  ####\n",
      "#### pop #0  :    fcoll      yes                      x       x                                           ####\n",
      "#### pop #1  : link:sfrd:0   yes                                              x                           ####\n",
      "#### pop #2  : link:sfrd:0   yes                                      x                                   ####\n",
      "#### ---------------------------------------------------------------------------------------------------- ####\n",
      "#### Physics                                                                                              ####\n",
      "#### ---------------------------------------------------------------------------------------------------- ####\n",
      "#### cgm_initial_temperature        : [10000.0]                                                           ####\n",
      "#### clumping_factor                : 1                                                                   ####\n",
      "#### secondary_ionization           : 1                                                                   ####\n",
      "#### approx_Salpha                  : 1                                                                   ####\n",
      "#### include_He                     : False                                                               ####\n",
      "#### feedback_LW                    : False                                                               ####\n",
      "##############################################################################################################\n",
      "# Loaded $ARES/input/hmf/hmf_ST_planck_TTTEEE_lowl_lowE_best_logM_1400_4-18_z_1201_0-60.hdf5.\n"
     ]
    },
    {
     "name": "stdout",
     "output_type": "stream",
     "text": [
      "3 {'fX': 1.0, 'fstar': 0.099, 'Nion': 4000.0, 'Nlw': 9690.0} \n",
      "\n",
      "# Loaded $ARES/input/inits/inits_planck_TTTEEE_lowl_lowE_best.txt.\n",
      "\n",
      "##############################################################################################################\n",
      "####                                      ARES Simulation: Overview                                       ####\n",
      "##############################################################################################################\n",
      "#### ---------------------------------------------------------------------------------------------------- ####\n",
      "#### Source Populations                                                                                   ####\n",
      "#### ---------------------------------------------------------------------------------------------------- ####\n",
      "####               sfrd      sed    radio    O/IR    Ly-a     LW     Ly-C   X-ray    RTE                  ####\n",
      "#### pop #0  :    fcoll      yes                      x       x                                           ####\n",
      "#### pop #1  : link:sfrd:0   yes                                              x                           ####\n",
      "#### pop #2  : link:sfrd:0   yes                                      x                                   ####\n",
      "#### ---------------------------------------------------------------------------------------------------- ####\n",
      "#### Physics                                                                                              ####\n",
      "#### ---------------------------------------------------------------------------------------------------- ####\n",
      "#### cgm_initial_temperature        : [10000.0]                                                           ####\n",
      "#### clumping_factor                : 1                                                                   ####\n",
      "#### secondary_ionization           : 1                                                                   ####\n",
      "#### approx_Salpha                  : 1                                                                   ####\n",
      "#### include_He                     : False                                                               ####\n",
      "#### feedback_LW                    : False                                                               ####\n",
      "##############################################################################################################\n",
      "# Loaded $ARES/input/hmf/hmf_ST_planck_TTTEEE_lowl_lowE_best_logM_1400_4-18_z_1201_0-60.hdf5.\n",
      "1 {'fX': 1.0, 'fstar': 0.1, 'Nion': 4000.0, 'Nlw': 9690.0}\n",
      "2 {'fX': 1.0, 'fstar': 0.1, 'Nion': 4100.0, 'Nlw': 9690.0}\n",
      "# Loaded $ARES/input/inits/inits_planck_TTTEEE_lowl_lowE_best.txt.\n",
      "\n",
      "##############################################################################################################\n",
      "####                                      ARES Simulation: Overview                                       ####\n",
      "##############################################################################################################\n",
      "#### ---------------------------------------------------------------------------------------------------- ####\n",
      "#### Source Populations                                                                                   ####\n",
      "#### ---------------------------------------------------------------------------------------------------- ####\n",
      "####               sfrd      sed    radio    O/IR    Ly-a     LW     Ly-C   X-ray    RTE                  ####\n",
      "#### pop #0  :    fcoll      yes                      x       x                                           ####\n",
      "#### pop #1  : link:sfrd:0   yes                                              x                           ####\n",
      "#### pop #2  : link:sfrd:0   yes                                      x                                   ####\n",
      "#### ---------------------------------------------------------------------------------------------------- ####\n",
      "#### Physics                                                                                              ####\n",
      "#### ---------------------------------------------------------------------------------------------------- ####\n",
      "#### cgm_initial_temperature        : [10000.0]                                                           ####\n",
      "#### clumping_factor                : 1                                                                   ####\n",
      "#### secondary_ionization           : 1                                                                   ####\n",
      "#### approx_Salpha                  : 1                                                                   ####\n",
      "#### include_He                     : False                                                               ####\n",
      "#### feedback_LW                    : False                                                               ####\n",
      "##############################################################################################################\n",
      "# Loaded $ARES/input/hmf/hmf_ST_planck_TTTEEE_lowl_lowE_best_logM_1400_4-18_z_1201_0-60.hdf5.\n",
      "3 {'fX': 1.0, 'fstar': 0.1, 'Nion': 3900.0, 'Nlw': 9690.0} \n",
      "\n",
      "# Loaded $ARES/input/inits/inits_planck_TTTEEE_lowl_lowE_best.txt.\n",
      "\n",
      "##############################################################################################################\n",
      "####                                      ARES Simulation: Overview                                       ####\n",
      "##############################################################################################################\n",
      "#### ---------------------------------------------------------------------------------------------------- ####\n",
      "#### Source Populations                                                                                   ####\n",
      "#### ---------------------------------------------------------------------------------------------------- ####\n",
      "####               sfrd      sed    radio    O/IR    Ly-a     LW     Ly-C   X-ray    RTE                  ####\n",
      "#### pop #0  :    fcoll      yes                      x       x                                           ####\n",
      "#### pop #1  : link:sfrd:0   yes                                              x                           ####\n",
      "#### pop #2  : link:sfrd:0   yes                                      x                                   ####\n",
      "#### ---------------------------------------------------------------------------------------------------- ####\n",
      "#### Physics                                                                                              ####\n",
      "#### ---------------------------------------------------------------------------------------------------- ####\n",
      "#### cgm_initial_temperature        : [10000.0]                                                           ####\n",
      "#### clumping_factor                : 1                                                                   ####\n",
      "#### secondary_ionization           : 1                                                                   ####\n",
      "#### approx_Salpha                  : 1                                                                   ####\n",
      "#### include_He                     : False                                                               ####\n",
      "#### feedback_LW                    : False                                                               ####\n",
      "##############################################################################################################\n",
      "# Loaded $ARES/input/hmf/hmf_ST_planck_TTTEEE_lowl_lowE_best_logM_1400_4-18_z_1201_0-60.hdf5.\n",
      "1 {'fX': 1.0, 'fstar': 0.1, 'Nion': 4000.0, 'Nlw': 9690.0}\n",
      "2 {'fX': 1.0, 'fstar': 0.1, 'Nion': 4000.0, 'Nlw': 9790.0}\n",
      "# Loaded $ARES/input/inits/inits_planck_TTTEEE_lowl_lowE_best.txt.\n",
      "\n",
      "##############################################################################################################\n",
      "####                                      ARES Simulation: Overview                                       ####\n",
      "##############################################################################################################\n",
      "#### ---------------------------------------------------------------------------------------------------- ####\n",
      "#### Source Populations                                                                                   ####\n",
      "#### ---------------------------------------------------------------------------------------------------- ####\n",
      "####               sfrd      sed    radio    O/IR    Ly-a     LW     Ly-C   X-ray    RTE                  ####\n",
      "#### pop #0  :    fcoll      yes                      x       x                                           ####\n",
      "#### pop #1  : link:sfrd:0   yes                                              x                           ####\n",
      "#### pop #2  : link:sfrd:0   yes                                      x                                   ####\n",
      "#### ---------------------------------------------------------------------------------------------------- ####\n",
      "#### Physics                                                                                              ####\n",
      "#### ---------------------------------------------------------------------------------------------------- ####\n",
      "#### cgm_initial_temperature        : [10000.0]                                                           ####\n",
      "#### clumping_factor                : 1                                                                   ####\n",
      "#### secondary_ionization           : 1                                                                   ####\n",
      "#### approx_Salpha                  : 1                                                                   ####\n",
      "#### include_He                     : False                                                               ####\n",
      "#### feedback_LW                    : False                                                               ####\n",
      "##############################################################################################################\n",
      "# Loaded $ARES/input/hmf/hmf_ST_planck_TTTEEE_lowl_lowE_best_logM_1400_4-18_z_1201_0-60.hdf5.\n"
     ]
    },
    {
     "name": "stdout",
     "output_type": "stream",
     "text": [
      "3 {'fX': 1.0, 'fstar': 0.1, 'Nion': 4000.0, 'Nlw': 9590.0} \n",
      "\n",
      "# Loaded $ARES/input/inits/inits_planck_TTTEEE_lowl_lowE_best.txt.\n",
      "\n",
      "##############################################################################################################\n",
      "####                                      ARES Simulation: Overview                                       ####\n",
      "##############################################################################################################\n",
      "#### ---------------------------------------------------------------------------------------------------- ####\n",
      "#### Source Populations                                                                                   ####\n",
      "#### ---------------------------------------------------------------------------------------------------- ####\n",
      "####               sfrd      sed    radio    O/IR    Ly-a     LW     Ly-C   X-ray    RTE                  ####\n",
      "#### pop #0  :    fcoll      yes                      x       x                                           ####\n",
      "#### pop #1  : link:sfrd:0   yes                                              x                           ####\n",
      "#### pop #2  : link:sfrd:0   yes                                      x                                   ####\n",
      "#### ---------------------------------------------------------------------------------------------------- ####\n",
      "#### Physics                                                                                              ####\n",
      "#### ---------------------------------------------------------------------------------------------------- ####\n",
      "#### cgm_initial_temperature        : [10000.0]                                                           ####\n",
      "#### clumping_factor                : 1                                                                   ####\n",
      "#### secondary_ionization           : 1                                                                   ####\n",
      "#### approx_Salpha                  : 1                                                                   ####\n",
      "#### include_He                     : False                                                               ####\n",
      "#### feedback_LW                    : False                                                               ####\n",
      "##############################################################################################################\n",
      "# Loaded $ARES/input/hmf/hmf_ST_planck_TTTEEE_lowl_lowE_best_logM_1400_4-18_z_1201_0-60.hdf5.\n"
     ]
    }
   ],
   "source": [
    "nu_test = np.linspace(5, 230, 1000)\n",
    "MM = nu_test\n",
    "MM = np.vstack((MM,data_matrix(nu_test, par_fid)))\n",
    "\n",
    "for i,name in enumerate(names):\n",
    "    parss = par_fid\n",
    "    print('1',parss)\n",
    "    \n",
    "    parss.update({name: fids[i]+steps[i]})\n",
    "    print('2',parss)\n",
    "    MM = np.vstack((MM,data_matrix(nu_test, parss)))\n",
    "    \n",
    "    parss.update({name: fids[i]-steps[i]})\n",
    "    print('3',parss, \"\\n\")\n",
    "    MM = np.vstack((MM,data_matrix(nu_test, parss)))\n",
    "\n",
    "    parss.update({name: fids[i]})\n",
    "\n",
    "# np.vstack((nu_test,nu_test))\n",
    "# np.concatenate((nu_test,nu_test), axis=0)\n"
   ]
  },
  {
   "cell_type": "code",
   "execution_count": 243,
   "metadata": {},
   "outputs": [],
   "source": [
    "# plt.subplots(figsize=(10,5))\n",
    "# MM.shape\n",
    "# plt.plot(MM[0],MM[1])\n",
    "# plt.plot(MM[0],MM[2])\n",
    "# plt.plot(MM[0],MM[3])\n",
    "# plt.grid()"
   ]
  },
  {
   "cell_type": "code",
   "execution_count": 242,
   "metadata": {},
   "outputs": [
    {
     "data": {
      "image/png": "[encoded data removed]",
      "text/plain": [
       "<Figure size 720x360 with 1 Axes>"
      ]
     },
     "metadata": {
      "needs_background": "light"
     },
     "output_type": "display_data"
    }
   ],
   "source": [
    "derMM = derivative_matrix(MM, steps)\n",
    "\n",
    "plt.subplots(figsize=(10,5))\n",
    "MM.shape\n",
    "plt.plot(derMM[0],derMM[1])\n",
    "# plt.plot(derMM[0],derMM[2])\n",
    "# plt.plot(derMM[0],derMM[3])\n",
    "# plt.plot(derMM[0],derMM[4])\n",
    "plt.grid()"
   ]
  },
  {
   "cell_type": "code",
   "execution_count": 268,
   "metadata": {},
   "outputs": [],
   "source": [
    "sig = 10 #mK\n",
    "FisherMatrix = Fisher_elements(derMM, sig)"
   ]
  },
  {
   "cell_type": "code",
   "execution_count": 269,
   "metadata": {},
   "outputs": [
    {
     "data": {
      "text/plain": [
       "array([[ 2.99980670e+03,  2.42835949e+04,  3.65673604e-03,\n",
       "        -4.92169185e-02],\n",
       "       [ 2.42835949e+04,  3.09067424e+05,  4.66918880e-01,\n",
       "         5.89500735e-01],\n",
       "       [ 3.65673604e-03,  4.66918880e-01,  1.13591569e-05,\n",
       "        -3.18170132e-07],\n",
       "       [-4.92169185e-02,  5.89500735e-01, -3.18170132e-07,\n",
       "         1.12373193e-05]])"
      ]
     },
     "execution_count": 269,
     "metadata": {},
     "output_type": "execute_result"
    }
   ],
   "source": [
    "FisherMatrix"
   ]
  },
  {
   "cell_type": "code",
   "execution_count": 284,
   "metadata": {},
   "outputs": [
    {
     "name": "stdout",
     "output_type": "stream",
     "text": [
      "generating new axis\n",
      "['fX' 'fstar' 'Nion' 'Nlw']\n"
     ]
    },
    {
     "data": {
      "image/png": "[encoded data removed]",
      "text/plain": [
       "<Figure size 576x576 with 16 Axes>"
      ]
     },
     "metadata": {
      "needs_background": "light"
     },
     "output_type": "display_data"
    }
   ],
   "source": [
    "from fishchips.cosmo import Observables\n",
    "import fishchips.util\n",
    "\n",
    "cov = np.linalg.inv(FisherMatrix)\n",
    "cov\n",
    "obs = Observables(parameters=names,\n",
    "                  fiducial=fids,\n",
    "                  left=fids-steps,\n",
    "                  right=fids+steps)\n",
    "\n",
    "# labels = [r'$\\omega_b$', r'$\\omega_{cdm}$', r'$h$',  r'$A_s$']\n",
    "# names = np.array( ['fX', 'fstar', 'Nion',  'Nlw'])\n",
    "\n",
    "fishchips.util.plot_triangle(obs, cov, labels=names)\n",
    "plt.savefig('triangle.pdf')"
   ]
  },
  {
   "cell_type": "code",
   "execution_count": 299,
   "metadata": {},
   "outputs": [
    {
     "name": "stdout",
     "output_type": "stream",
     "text": [
      "fX \t 1.0 \t 0.86\n",
      "fstar \t 0.1 \t 0.09\n",
      "Nion \t 4000.0 \t 3647.72\n",
      "Nlw \t 9690.0 \t 8558.61\n"
     ]
    }
   ],
   "source": [
    "for i in range(4):\n",
    "    print(names[i], \"\\t\", fids[i], \"\\t\", np.round(np.sqrt(cov[i,i]),2))"
   ]
  },
  {
   "cell_type": "code",
   "execution_count": null,
   "metadata": {},
   "outputs": [],
   "source": []
  }
 ],
 "metadata": {
  "kernelspec": {
   "display_name": "Python 3",
   "language": "python",
   "name": "python3"
  },
  "language_info": {
   "codemirror_mode": {
    "name": "ipython",
    "version": 3
   },
   "file_extension": ".py",
   "mimetype": "text/x-python",
   "name": "python",
   "nbconvert_exporter": "python",
   "pygments_lexer": "ipython3",
   "version": "3.8.3"
  }
 },
 "nbformat": 4,
 "nbformat_minor": 5
}
